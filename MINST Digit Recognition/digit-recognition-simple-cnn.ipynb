{
 "cells": [
  {
   "cell_type": "markdown",
   "metadata": {
    "papermill": {
     "duration": 0.020171,
     "end_time": "2021-01-10T17:46:24.300956",
     "exception": false,
     "start_time": "2021-01-10T17:46:24.280785",
     "status": "completed"
    },
    "tags": []
   },
   "source": [
    "Here's my attempt at making a simple CNN to train and make predictions on the MINST digits dataset.  We'll start off by importing the libraries and functions we'll be using"
   ]
  },
  {
   "cell_type": "code",
   "execution_count": 1,
   "metadata": {
    "_cell_guid": "b1076dfc-b9ad-4769-8c92-a6c4dae69d19",
    "_uuid": "8f2839f25d086af736a60e9eeb907d3b93b6e0e5",
    "execution": {
     "iopub.execute_input": "2021-01-10T17:46:24.347925Z",
     "iopub.status.busy": "2021-01-10T17:46:24.347303Z",
     "iopub.status.idle": "2021-01-10T17:46:30.110183Z",
     "shell.execute_reply": "2021-01-10T17:46:30.109482Z"
    },
    "papermill": {
     "duration": 5.790176,
     "end_time": "2021-01-10T17:46:30.110295",
     "exception": false,
     "start_time": "2021-01-10T17:46:24.320119",
     "status": "completed"
    },
    "tags": []
   },
   "outputs": [],
   "source": [
    "#Imports\n",
    "import numpy as np \n",
    "import pandas as pd \n",
    "import tensorflow as tf\n",
    "import matplotlib.pyplot as plt\n",
    "from keras.models import Sequential\n",
    "from keras.layers import Conv2D, MaxPool2D, Activation, Dropout, Flatten, Dense, BatchNormalization\n",
    "from keras.preprocessing.image import ImageDataGenerator\n",
    "from sklearn.model_selection import train_test_split\n",
    "from sklearn.metrics import confusion_matrix\n",
    "from keras.optimizers import Adam"
   ]
  },
  {
   "cell_type": "markdown",
   "metadata": {
    "papermill": {
     "duration": 0.019232,
     "end_time": "2021-01-10T17:46:30.148955",
     "exception": false,
     "start_time": "2021-01-10T17:46:30.129723",
     "status": "completed"
    },
    "tags": []
   },
   "source": [
    "Next, we gotta import the data.  Kaggle stores it in the folders below, from which we import it."
   ]
  },
  {
   "cell_type": "code",
   "execution_count": 2,
   "metadata": {
    "_cell_guid": "79c7e3d0-c299-4dcb-8224-4455121ee9b0",
    "_uuid": "d629ff2d2480ee46fbb7e2d37f6b5fab8052498a",
    "execution": {
     "iopub.execute_input": "2021-01-10T17:46:30.194581Z",
     "iopub.status.busy": "2021-01-10T17:46:30.193842Z",
     "iopub.status.idle": "2021-01-10T17:46:35.913421Z",
     "shell.execute_reply": "2021-01-10T17:46:35.912649Z"
    },
    "papermill": {
     "duration": 5.745818,
     "end_time": "2021-01-10T17:46:35.913563",
     "exception": false,
     "start_time": "2021-01-10T17:46:30.167745",
     "status": "completed"
    },
    "tags": []
   },
   "outputs": [
    {
     "name": "stdout",
     "output_type": "stream",
     "text": [
      "(42000, 785)\n",
      "(28000, 784)\n",
      "   label  pixel0  pixel1  pixel2  pixel3  pixel4  pixel5  pixel6  pixel7  \\\n",
      "0      1       0       0       0       0       0       0       0       0   \n",
      "1      0       0       0       0       0       0       0       0       0   \n",
      "2      1       0       0       0       0       0       0       0       0   \n",
      "3      4       0       0       0       0       0       0       0       0   \n",
      "4      0       0       0       0       0       0       0       0       0   \n",
      "\n",
      "   pixel8  ...  pixel774  pixel775  pixel776  pixel777  pixel778  pixel779  \\\n",
      "0       0  ...         0         0         0         0         0         0   \n",
      "1       0  ...         0         0         0         0         0         0   \n",
      "2       0  ...         0         0         0         0         0         0   \n",
      "3       0  ...         0         0         0         0         0         0   \n",
      "4       0  ...         0         0         0         0         0         0   \n",
      "\n",
      "   pixel780  pixel781  pixel782  pixel783  \n",
      "0         0         0         0         0  \n",
      "1         0         0         0         0  \n",
      "2         0         0         0         0  \n",
      "3         0         0         0         0  \n",
      "4         0         0         0         0  \n",
      "\n",
      "[5 rows x 785 columns]\n"
     ]
    }
   ],
   "source": [
    "#Reads in the training and testing sets.  \n",
    "df = pd.read_csv(\"/kaggle/input/digit-recognizer/train.csv\")\n",
    "test =  pd.read_csv(\"/kaggle/input/digit-recognizer/test.csv\") #Won't see this again until later\n",
    "\n",
    "print(df.shape)\n",
    "print(test.shape)\n",
    "print(df.head())"
   ]
  },
  {
   "cell_type": "markdown",
   "metadata": {
    "papermill": {
     "duration": 0.019104,
     "end_time": "2021-01-10T17:46:35.952910",
     "exception": false,
     "start_time": "2021-01-10T17:46:35.933806",
     "status": "completed"
    },
    "tags": []
   },
   "source": [
    "As seen above, these are datasets of pixels by image, with each row representing a seperate image of 784 pixels (likely 28 high X 28 wide). The training set contains 42000 images, while the testing set contains 28000. This appears to be monohromatic, as there is only one layer. Were they not black and white, we could expect three different sets of values for each pixel, representing red, green, and blue.\n",
    "\n",
    "The training set has an extra column relating to the actual digit drawn for each image (the labels). Going forward, that is going to be very important information but we need to seperate it out so we only have pixel data in the training set. Below, the labels are sectioned off into their own list, and the corrisponding column is dropped from the training set.  We also get the counts of each different label, which will be helpful to know."
   ]
  },
  {
   "cell_type": "code",
   "execution_count": 3,
   "metadata": {
    "execution": {
     "iopub.execute_input": "2021-01-10T17:46:36.080437Z",
     "iopub.status.busy": "2021-01-10T17:46:36.079418Z",
     "iopub.status.idle": "2021-01-10T17:46:36.090842Z",
     "shell.execute_reply": "2021-01-10T17:46:36.090064Z"
    },
    "papermill": {
     "duration": 0.117317,
     "end_time": "2021-01-10T17:46:36.090990",
     "exception": false,
     "start_time": "2021-01-10T17:46:35.973673",
     "status": "completed"
    },
    "tags": []
   },
   "outputs": [
    {
     "name": "stdout",
     "output_type": "stream",
     "text": [
      "1    4684\n",
      "7    4401\n",
      "3    4351\n",
      "9    4188\n",
      "2    4177\n",
      "6    4137\n",
      "0    4132\n",
      "4    4072\n",
      "8    4063\n",
      "5    3795\n",
      "Name: label, dtype: int64\n",
      "Baseline Accuracy: 0.112\n"
     ]
    }
   ],
   "source": [
    "#Makes a list of the actual digits drawn for each image, then get's rid of that column from the training set\n",
    "labels = df[\"label\"]\n",
    "X = df.drop('label', axis = 1)\n",
    "print(labels.value_counts())\n",
    "\n",
    "print(\"Baseline Accuracy: \" + str(round(labels.value_counts().max()/labels.value_counts().sum(),3)))"
   ]
  },
  {
   "cell_type": "markdown",
   "metadata": {
    "papermill": {
     "duration": 0.019625,
     "end_time": "2021-01-10T17:46:36.131585",
     "exception": false,
     "start_time": "2021-01-10T17:46:36.111960",
     "status": "completed"
    },
    "tags": []
   },
   "source": [
    "Above are the value counts for each label.  As you can see, it's fairly uniformly distributed, although there are some differences between categories.  Having a uniform distribution makes categorical classification a bit easier.  We also now know the base accuracy we need to achieve with the model to do better than just guessing the most common category every time (the number 1 in this case).  If the model does better than that, then it's a fair bet it's actually learnng from the imagery.\n",
    "\n",
    "Now let's find the range of potential values for each pixel"
   ]
  },
  {
   "cell_type": "code",
   "execution_count": 4,
   "metadata": {
    "execution": {
     "iopub.execute_input": "2021-01-10T17:46:36.179127Z",
     "iopub.status.busy": "2021-01-10T17:46:36.178248Z",
     "iopub.status.idle": "2021-01-10T17:46:36.251701Z",
     "shell.execute_reply": "2021-01-10T17:46:36.251219Z"
    },
    "papermill": {
     "duration": 0.1,
     "end_time": "2021-01-10T17:46:36.251804",
     "exception": false,
     "start_time": "2021-01-10T17:46:36.151804",
     "status": "completed"
    },
    "tags": []
   },
   "outputs": [
    {
     "name": "stdout",
     "output_type": "stream",
     "text": [
      "255\n",
      "0\n"
     ]
    }
   ],
   "source": [
    "print(X.values.max())\n",
    "print(X.values.min())"
   ]
  },
  {
   "cell_type": "markdown",
   "metadata": {
    "papermill": {
     "duration": 0.020454,
     "end_time": "2021-01-10T17:46:36.293055",
     "exception": false,
     "start_time": "2021-01-10T17:46:36.272601",
     "status": "completed"
    },
    "tags": []
   },
   "source": [
    "Pretty standard configuration: 0 is black, 255 is white.  We should adjust the values so they fall between 0 and 1, which makes it easier for the model to handle later.  We should also reshape and re-type the data to the required format.  Let's wrap it all up in a function.\n",
    "\n",
    "Note: Keras has built-in ways to do this stuff, but here it is anyway."
   ]
  },
  {
   "cell_type": "code",
   "execution_count": 5,
   "metadata": {
    "execution": {
     "iopub.execute_input": "2021-01-10T17:46:36.343098Z",
     "iopub.status.busy": "2021-01-10T17:46:36.342419Z",
     "iopub.status.idle": "2021-01-10T17:46:37.180130Z",
     "shell.execute_reply": "2021-01-10T17:46:37.179514Z"
    },
    "papermill": {
     "duration": 0.86632,
     "end_time": "2021-01-10T17:46:37.180272",
     "exception": false,
     "start_time": "2021-01-10T17:46:36.313952",
     "status": "completed"
    },
    "tags": []
   },
   "outputs": [
    {
     "name": "stdout",
     "output_type": "stream",
     "text": [
      "1.0\n",
      "0.0\n",
      "<class 'numpy.ndarray'>\n",
      "(42000, 28, 28, 1)\n"
     ]
    }
   ],
   "source": [
    "#Normalizes values in dataframe to 0-1, and reshapes it to the required dimensions \n",
    "def normalizeANDreshape(df, minimum, maximum): \n",
    "    diff = maximum - minimum\n",
    "    zero_min = df - minimum\n",
    "    adjusted = zero_min/diff\n",
    "    \n",
    "    shaped = adjusted.values.reshape(-1,28,28,1) #the width and height of the images, 1 layer deep because it's monochromatic (would be 3 if it contained RGB values)\n",
    "    \n",
    "    return shaped\n",
    "\n",
    "print(np.max(normalizeANDreshape(X, 0, 255)))\n",
    "print(np.min(normalizeANDreshape(X, 0, 255)))\n",
    "print(type(normalizeANDreshape(X, 0, 255)))\n",
    "print(normalizeANDreshape(X, 0, 255).shape)"
   ]
  },
  {
   "cell_type": "markdown",
   "metadata": {
    "papermill": {
     "duration": 0.021829,
     "end_time": "2021-01-10T17:46:37.224352",
     "exception": false,
     "start_time": "2021-01-10T17:46:37.202523",
     "status": "completed"
    },
    "tags": []
   },
   "source": [
    "As you can see, we now have a function that will get the image data ready for us.\n",
    "\n",
    "Now we need to process the labels, i.e. get dummy variables, to train the model with."
   ]
  },
  {
   "cell_type": "code",
   "execution_count": 6,
   "metadata": {
    "execution": {
     "iopub.execute_input": "2021-01-10T17:46:37.274063Z",
     "iopub.status.busy": "2021-01-10T17:46:37.273177Z",
     "iopub.status.idle": "2021-01-10T17:46:37.290662Z",
     "shell.execute_reply": "2021-01-10T17:46:37.291171Z"
    },
    "papermill": {
     "duration": 0.044811,
     "end_time": "2021-01-10T17:46:37.291310",
     "exception": false,
     "start_time": "2021-01-10T17:46:37.246499",
     "status": "completed"
    },
    "tags": []
   },
   "outputs": [
    {
     "data": {
      "text/html": [
       "<div>\n",
       "<style scoped>\n",
       "    .dataframe tbody tr th:only-of-type {\n",
       "        vertical-align: middle;\n",
       "    }\n",
       "\n",
       "    .dataframe tbody tr th {\n",
       "        vertical-align: top;\n",
       "    }\n",
       "\n",
       "    .dataframe thead th {\n",
       "        text-align: right;\n",
       "    }\n",
       "</style>\n",
       "<table border=\"1\" class=\"dataframe\">\n",
       "  <thead>\n",
       "    <tr style=\"text-align: right;\">\n",
       "      <th></th>\n",
       "      <th>0</th>\n",
       "      <th>1</th>\n",
       "      <th>2</th>\n",
       "      <th>3</th>\n",
       "      <th>4</th>\n",
       "      <th>5</th>\n",
       "      <th>6</th>\n",
       "      <th>7</th>\n",
       "      <th>8</th>\n",
       "      <th>9</th>\n",
       "    </tr>\n",
       "  </thead>\n",
       "  <tbody>\n",
       "    <tr>\n",
       "      <th>0</th>\n",
       "      <td>0</td>\n",
       "      <td>1</td>\n",
       "      <td>0</td>\n",
       "      <td>0</td>\n",
       "      <td>0</td>\n",
       "      <td>0</td>\n",
       "      <td>0</td>\n",
       "      <td>0</td>\n",
       "      <td>0</td>\n",
       "      <td>0</td>\n",
       "    </tr>\n",
       "    <tr>\n",
       "      <th>1</th>\n",
       "      <td>1</td>\n",
       "      <td>0</td>\n",
       "      <td>0</td>\n",
       "      <td>0</td>\n",
       "      <td>0</td>\n",
       "      <td>0</td>\n",
       "      <td>0</td>\n",
       "      <td>0</td>\n",
       "      <td>0</td>\n",
       "      <td>0</td>\n",
       "    </tr>\n",
       "    <tr>\n",
       "      <th>2</th>\n",
       "      <td>0</td>\n",
       "      <td>1</td>\n",
       "      <td>0</td>\n",
       "      <td>0</td>\n",
       "      <td>0</td>\n",
       "      <td>0</td>\n",
       "      <td>0</td>\n",
       "      <td>0</td>\n",
       "      <td>0</td>\n",
       "      <td>0</td>\n",
       "    </tr>\n",
       "    <tr>\n",
       "      <th>3</th>\n",
       "      <td>0</td>\n",
       "      <td>0</td>\n",
       "      <td>0</td>\n",
       "      <td>0</td>\n",
       "      <td>1</td>\n",
       "      <td>0</td>\n",
       "      <td>0</td>\n",
       "      <td>0</td>\n",
       "      <td>0</td>\n",
       "      <td>0</td>\n",
       "    </tr>\n",
       "    <tr>\n",
       "      <th>4</th>\n",
       "      <td>1</td>\n",
       "      <td>0</td>\n",
       "      <td>0</td>\n",
       "      <td>0</td>\n",
       "      <td>0</td>\n",
       "      <td>0</td>\n",
       "      <td>0</td>\n",
       "      <td>0</td>\n",
       "      <td>0</td>\n",
       "      <td>0</td>\n",
       "    </tr>\n",
       "  </tbody>\n",
       "</table>\n",
       "</div>"
      ],
      "text/plain": [
       "   0  1  2  3  4  5  6  7  8  9\n",
       "0  0  1  0  0  0  0  0  0  0  0\n",
       "1  1  0  0  0  0  0  0  0  0  0\n",
       "2  0  1  0  0  0  0  0  0  0  0\n",
       "3  0  0  0  0  1  0  0  0  0  0\n",
       "4  1  0  0  0  0  0  0  0  0  0"
      ]
     },
     "execution_count": 6,
     "metadata": {},
     "output_type": "execute_result"
    }
   ],
   "source": [
    "#Dummy lables in a dataframe\n",
    "y = pd.get_dummies(labels)\n",
    "y.head()"
   ]
  },
  {
   "cell_type": "markdown",
   "metadata": {
    "papermill": {
     "duration": 0.02283,
     "end_time": "2021-01-10T17:46:37.336865",
     "exception": false,
     "start_time": "2021-01-10T17:46:37.314035",
     "status": "completed"
    },
    "tags": []
   },
   "source": [
    "Now to train this model well (and help avoid overfitting) we need to section off some of the training data into a validation set.  This way the model has some way to evaluate itself independent of the data it's using to train as it trains. "
   ]
  },
  {
   "cell_type": "code",
   "execution_count": 7,
   "metadata": {
    "execution": {
     "iopub.execute_input": "2021-01-10T17:46:37.401235Z",
     "iopub.status.busy": "2021-01-10T17:46:37.399542Z",
     "iopub.status.idle": "2021-01-10T17:46:37.960044Z",
     "shell.execute_reply": "2021-01-10T17:46:37.958615Z"
    },
    "papermill": {
     "duration": 0.600508,
     "end_time": "2021-01-10T17:46:37.960166",
     "exception": false,
     "start_time": "2021-01-10T17:46:37.359658",
     "status": "completed"
    },
    "tags": []
   },
   "outputs": [],
   "source": [
    "#Splits into training and validation sets.  Uses 20% of data as validation\n",
    "X_train, X_val, y_train, y_val = train_test_split(normalizeANDreshape(X, 0, 255), y, test_size = 0.20)"
   ]
  },
  {
   "cell_type": "markdown",
   "metadata": {
    "papermill": {
     "duration": 0.021952,
     "end_time": "2021-01-10T17:46:38.004631",
     "exception": false,
     "start_time": "2021-01-10T17:46:37.982679",
     "status": "completed"
    },
    "tags": []
   },
   "source": [
    "Now this dataset is small enough (~122 MB) to fit into working memory, so we don't need to bother with configuring up directories to process it in chunks.  We will however want to augment it a bit.  \n",
    "\n",
    "These images are very small.  Also, if you go look at images of what these numbers look like (sorry for not including examples in here), you'll see that all of the numbers are fairly standard: right side up, not mirrored, not too tilted, etc.  Thus, we shouldn't need to do too much to avoid overfitting; we'll just shift things around, rotate slightly, and zoom a bit.\n",
    "\n",
    "Note: we do not want to augment the testing or the validation sets."
   ]
  },
  {
   "cell_type": "code",
   "execution_count": 8,
   "metadata": {
    "execution": {
     "iopub.execute_input": "2021-01-10T17:46:38.057164Z",
     "iopub.status.busy": "2021-01-10T17:46:38.055944Z",
     "iopub.status.idle": "2021-01-10T17:46:38.142173Z",
     "shell.execute_reply": "2021-01-10T17:46:38.141566Z"
    },
    "papermill": {
     "duration": 0.114584,
     "end_time": "2021-01-10T17:46:38.142279",
     "exception": false,
     "start_time": "2021-01-10T17:46:38.027695",
     "status": "completed"
    },
    "tags": []
   },
   "outputs": [],
   "source": [
    "#Augments the data with some rotated, shifted, and zoomed images\n",
    "augment = ImageDataGenerator(rotation_range = 15,\n",
    "                                  width_shift_range = 0.35,\n",
    "                                  height_shift_range = 0.35,\n",
    "                                  zoom_range = 0.2,\n",
    "                                  )\n",
    "augment.fit(X_train)"
   ]
  },
  {
   "cell_type": "markdown",
   "metadata": {
    "papermill": {
     "duration": 0.022857,
     "end_time": "2021-01-10T17:46:38.187993",
     "exception": false,
     "start_time": "2021-01-10T17:46:38.165136",
     "status": "completed"
    },
    "tags": []
   },
   "source": [
    "Now we need to make the model.  As hinted at in the title, it's going to be a simple convoluted neural network (CNN).  Below is a function that will create the framework.  Lot's of ways to do this, and the images are fairly simple and small, so we shouldn't need too complex a network to get good results; below is one possiblity."
   ]
  },
  {
   "cell_type": "code",
   "execution_count": 9,
   "metadata": {
    "execution": {
     "iopub.execute_input": "2021-01-10T17:46:38.247670Z",
     "iopub.status.busy": "2021-01-10T17:46:38.246928Z",
     "iopub.status.idle": "2021-01-10T17:46:41.415721Z",
     "shell.execute_reply": "2021-01-10T17:46:41.413225Z"
    },
    "papermill": {
     "duration": 3.205666,
     "end_time": "2021-01-10T17:46:41.415881",
     "exception": false,
     "start_time": "2021-01-10T17:46:38.210215",
     "status": "completed"
    },
    "tags": []
   },
   "outputs": [
    {
     "name": "stdout",
     "output_type": "stream",
     "text": [
      "Model: \"sequential\"\n",
      "_________________________________________________________________\n",
      "Layer (type)                 Output Shape              Param #   \n",
      "=================================================================\n",
      "conv2d (Conv2D)              (None, 28, 28, 64)        1088      \n",
      "_________________________________________________________________\n",
      "max_pooling2d (MaxPooling2D) (None, 14, 14, 64)        0         \n",
      "_________________________________________________________________\n",
      "batch_normalization (BatchNo (None, 14, 14, 64)        256       \n",
      "_________________________________________________________________\n",
      "dropout (Dropout)            (None, 14, 14, 64)        0         \n",
      "_________________________________________________________________\n",
      "conv2d_1 (Conv2D)            (None, 14, 14, 64)        36928     \n",
      "_________________________________________________________________\n",
      "max_pooling2d_1 (MaxPooling2 (None, 7, 7, 64)          0         \n",
      "_________________________________________________________________\n",
      "conv2d_2 (Conv2D)            (None, 7, 7, 64)          36928     \n",
      "_________________________________________________________________\n",
      "conv2d_3 (Conv2D)            (None, 7, 7, 128)         32896     \n",
      "_________________________________________________________________\n",
      "max_pooling2d_2 (MaxPooling2 (None, 3, 3, 128)         0         \n",
      "_________________________________________________________________\n",
      "flatten (Flatten)            (None, 1152)              0         \n",
      "_________________________________________________________________\n",
      "dense (Dense)                (None, 64)                73792     \n",
      "_________________________________________________________________\n",
      "dropout_1 (Dropout)          (None, 64)                0         \n",
      "_________________________________________________________________\n",
      "dense_1 (Dense)              (None, 10)                650       \n",
      "=================================================================\n",
      "Total params: 182,538\n",
      "Trainable params: 182,410\n",
      "Non-trainable params: 128\n",
      "_________________________________________________________________\n"
     ]
    }
   ],
   "source": [
    "#Sets the model architecture\n",
    "#Won't into how this works heree\n",
    "def makeCNN(shape):\n",
    "    \n",
    "    model = Sequential()\n",
    "\n",
    "    model.add(Conv2D(filters = 64, kernel_size = (4,4), padding = 'same', activation = 'relu', input_shape = shape))\n",
    "    model.add(MaxPool2D(pool_size=(2,2)))\n",
    "    model.add(BatchNormalization())\n",
    "    model.add(Dropout(0.25))\n",
    "\n",
    "    model.add(Conv2D(filters = 64, kernel_size = (3,3), padding = 'same', activation = 'relu'))\n",
    "    model.add(MaxPool2D(pool_size=(2,2)))\n",
    "\n",
    "    model.add(Conv2D(filters = 64, kernel_size = (3,3), padding = 'same', activation = 'relu'))\n",
    "\n",
    "    model.add(Conv2D(filters = 128, kernel_size = (2,2), padding = 'same', activation = 'relu'))\n",
    "    model.add(MaxPool2D(pool_size=(2,2)))\n",
    "\n",
    "    model.add(Flatten())\n",
    "\n",
    "    model.add(Dense(64, activation = 'relu'))\n",
    "    model.add(Dropout(0.25))\n",
    "\n",
    "    model.add(Dense(10, activation = 'softmax'))\n",
    "\n",
    "    return model\n",
    "    \n",
    "#Displays a summary of the model\n",
    "model = makeCNN((28, 28, 1))\n",
    "model.summary()"
   ]
  },
  {
   "cell_type": "markdown",
   "metadata": {
    "papermill": {
     "duration": 0.041037,
     "end_time": "2021-01-10T17:46:41.481490",
     "exception": false,
     "start_time": "2021-01-10T17:46:41.440453",
     "status": "completed"
    },
    "tags": []
   },
   "source": [
    "We now have a model framework with about 182k parameters.  Next, we need to compile it.  We'll try using the 'Adam' optomizer function, which will adapt the learning rate, along with categorical crossentropy for loss (becuase we are looking for categorical classification), and measure accuracy."
   ]
  },
  {
   "cell_type": "code",
   "execution_count": 10,
   "metadata": {
    "execution": {
     "iopub.execute_input": "2021-01-10T17:46:41.546790Z",
     "iopub.status.busy": "2021-01-10T17:46:41.545801Z",
     "iopub.status.idle": "2021-01-10T17:46:41.553198Z",
     "shell.execute_reply": "2021-01-10T17:46:41.552610Z"
    },
    "papermill": {
     "duration": 0.043499,
     "end_time": "2021-01-10T17:46:41.553303",
     "exception": false,
     "start_time": "2021-01-10T17:46:41.509804",
     "status": "completed"
    },
    "tags": []
   },
   "outputs": [],
   "source": [
    "#Compiles the model\n",
    "model.compile(optimizer = Adam(), #Default learning rate is 0.001\n",
    "             loss = 'categorical_crossentropy',\n",
    "             metrics = 'accuracy')"
   ]
  },
  {
   "cell_type": "markdown",
   "metadata": {
    "papermill": {
     "duration": 0.022198,
     "end_time": "2021-01-10T17:46:41.599435",
     "exception": false,
     "start_time": "2021-01-10T17:46:41.577237",
     "status": "completed"
    },
    "tags": []
   },
   "source": [
    "All that's left is to train it.  We'll choose 50 epochs and a batch size of 64.  The images are pretty small, so this shouldn't take too long.  Could probably even do K-fold validation in a reasonable time.  "
   ]
  },
  {
   "cell_type": "code",
   "execution_count": 11,
   "metadata": {
    "execution": {
     "iopub.execute_input": "2021-01-10T17:46:41.653544Z",
     "iopub.status.busy": "2021-01-10T17:46:41.652394Z",
     "iopub.status.idle": "2021-01-10T17:57:01.810791Z",
     "shell.execute_reply": "2021-01-10T17:57:01.809659Z"
    },
    "papermill": {
     "duration": 620.188157,
     "end_time": "2021-01-10T17:57:01.810915",
     "exception": false,
     "start_time": "2021-01-10T17:46:41.622758",
     "status": "completed"
    },
    "tags": []
   },
   "outputs": [
    {
     "name": "stdout",
     "output_type": "stream",
     "text": [
      "Epoch 1/50\n",
      "525/525 [==============================] - 12s 23ms/step - loss: 1.0487 - accuracy: 0.6402 - val_loss: 0.1610 - val_accuracy: 0.9662\n",
      "Epoch 2/50\n",
      "525/525 [==============================] - 11s 21ms/step - loss: 0.3711 - accuracy: 0.8875 - val_loss: 0.0825 - val_accuracy: 0.9777\n",
      "Epoch 3/50\n",
      "525/525 [==============================] - 12s 23ms/step - loss: 0.2592 - accuracy: 0.9207 - val_loss: 0.0674 - val_accuracy: 0.9798\n",
      "Epoch 4/50\n",
      "525/525 [==============================] - 11s 21ms/step - loss: 0.2237 - accuracy: 0.9335 - val_loss: 0.0584 - val_accuracy: 0.9849\n",
      "Epoch 5/50\n",
      "525/525 [==============================] - 13s 25ms/step - loss: 0.1957 - accuracy: 0.9438 - val_loss: 0.0420 - val_accuracy: 0.9886\n",
      "Epoch 6/50\n",
      "525/525 [==============================] - 13s 24ms/step - loss: 0.1718 - accuracy: 0.9488 - val_loss: 0.0510 - val_accuracy: 0.9865\n",
      "Epoch 7/50\n",
      "525/525 [==============================] - 11s 22ms/step - loss: 0.1633 - accuracy: 0.9523 - val_loss: 0.0394 - val_accuracy: 0.9902\n",
      "Epoch 8/50\n",
      "525/525 [==============================] - 12s 23ms/step - loss: 0.1554 - accuracy: 0.9541 - val_loss: 0.0408 - val_accuracy: 0.9889\n",
      "Epoch 9/50\n",
      "525/525 [==============================] - 12s 23ms/step - loss: 0.1516 - accuracy: 0.9552 - val_loss: 0.0616 - val_accuracy: 0.9836\n",
      "Epoch 10/50\n",
      "525/525 [==============================] - 13s 26ms/step - loss: 0.1427 - accuracy: 0.9574 - val_loss: 0.0373 - val_accuracy: 0.9919\n",
      "Epoch 11/50\n",
      "525/525 [==============================] - 12s 24ms/step - loss: 0.1430 - accuracy: 0.9586 - val_loss: 0.0391 - val_accuracy: 0.9908\n",
      "Epoch 12/50\n",
      "525/525 [==============================] - 11s 22ms/step - loss: 0.1395 - accuracy: 0.9574 - val_loss: 0.0427 - val_accuracy: 0.9902\n",
      "Epoch 13/50\n",
      "525/525 [==============================] - 12s 23ms/step - loss: 0.1337 - accuracy: 0.9599 - val_loss: 0.0273 - val_accuracy: 0.9942\n",
      "Epoch 14/50\n",
      "525/525 [==============================] - 12s 23ms/step - loss: 0.1242 - accuracy: 0.9631 - val_loss: 0.0432 - val_accuracy: 0.9901\n",
      "Epoch 15/50\n",
      "525/525 [==============================] - 13s 24ms/step - loss: 0.1237 - accuracy: 0.9636 - val_loss: 0.0342 - val_accuracy: 0.9919\n",
      "Epoch 16/50\n",
      "525/525 [==============================] - 12s 22ms/step - loss: 0.1247 - accuracy: 0.9633 - val_loss: 0.0364 - val_accuracy: 0.9921\n",
      "Epoch 17/50\n",
      "525/525 [==============================] - 12s 23ms/step - loss: 0.1256 - accuracy: 0.9641 - val_loss: 0.0409 - val_accuracy: 0.9896\n",
      "Epoch 18/50\n",
      "525/525 [==============================] - 12s 23ms/step - loss: 0.1170 - accuracy: 0.9662 - val_loss: 0.0334 - val_accuracy: 0.9931\n",
      "Epoch 19/50\n",
      "525/525 [==============================] - 12s 23ms/step - loss: 0.1144 - accuracy: 0.9652 - val_loss: 0.0419 - val_accuracy: 0.9913\n",
      "Epoch 20/50\n",
      "525/525 [==============================] - 12s 24ms/step - loss: 0.1193 - accuracy: 0.9639 - val_loss: 0.0441 - val_accuracy: 0.9895\n",
      "Epoch 21/50\n",
      "525/525 [==============================] - 12s 23ms/step - loss: 0.1114 - accuracy: 0.9677 - val_loss: 0.0407 - val_accuracy: 0.9917\n",
      "Epoch 22/50\n",
      "525/525 [==============================] - 12s 22ms/step - loss: 0.1122 - accuracy: 0.9666 - val_loss: 0.0377 - val_accuracy: 0.9913\n",
      "Epoch 23/50\n",
      "525/525 [==============================] - 11s 21ms/step - loss: 0.1060 - accuracy: 0.9688 - val_loss: 0.0306 - val_accuracy: 0.9927\n",
      "Epoch 24/50\n",
      "525/525 [==============================] - 13s 25ms/step - loss: 0.1025 - accuracy: 0.9692 - val_loss: 0.0320 - val_accuracy: 0.9911\n",
      "Epoch 25/50\n",
      "525/525 [==============================] - 13s 24ms/step - loss: 0.1125 - accuracy: 0.9665 - val_loss: 0.0306 - val_accuracy: 0.9942\n",
      "Epoch 26/50\n",
      "525/525 [==============================] - 11s 21ms/step - loss: 0.1054 - accuracy: 0.9695 - val_loss: 0.0332 - val_accuracy: 0.9933\n",
      "Epoch 27/50\n",
      "525/525 [==============================] - 12s 22ms/step - loss: 0.1014 - accuracy: 0.9690 - val_loss: 0.0438 - val_accuracy: 0.9899\n",
      "Epoch 28/50\n",
      "525/525 [==============================] - 12s 23ms/step - loss: 0.1046 - accuracy: 0.9689 - val_loss: 0.0377 - val_accuracy: 0.9918\n",
      "Epoch 29/50\n",
      "525/525 [==============================] - 12s 23ms/step - loss: 0.1038 - accuracy: 0.9696 - val_loss: 0.0370 - val_accuracy: 0.9927\n",
      "Epoch 30/50\n",
      "525/525 [==============================] - 13s 25ms/step - loss: 0.1045 - accuracy: 0.9688 - val_loss: 0.0381 - val_accuracy: 0.9917\n",
      "Epoch 31/50\n",
      "525/525 [==============================] - 11s 22ms/step - loss: 0.1010 - accuracy: 0.9697 - val_loss: 0.0385 - val_accuracy: 0.9919\n",
      "Epoch 32/50\n",
      "525/525 [==============================] - 13s 24ms/step - loss: 0.0976 - accuracy: 0.9715 - val_loss: 0.0455 - val_accuracy: 0.9907\n",
      "Epoch 33/50\n",
      "525/525 [==============================] - 12s 22ms/step - loss: 0.1001 - accuracy: 0.9705 - val_loss: 0.0347 - val_accuracy: 0.9931\n",
      "Epoch 34/50\n",
      "525/525 [==============================] - 12s 22ms/step - loss: 0.0966 - accuracy: 0.9701 - val_loss: 0.0533 - val_accuracy: 0.9911\n",
      "Epoch 35/50\n",
      "525/525 [==============================] - 13s 26ms/step - loss: 0.0944 - accuracy: 0.9725 - val_loss: 0.0478 - val_accuracy: 0.9910\n",
      "Epoch 36/50\n",
      "525/525 [==============================] - 12s 23ms/step - loss: 0.1005 - accuracy: 0.9707 - val_loss: 0.0373 - val_accuracy: 0.9915\n",
      "Epoch 37/50\n",
      "525/525 [==============================] - 11s 21ms/step - loss: 0.1013 - accuracy: 0.9701 - val_loss: 0.0379 - val_accuracy: 0.9923\n",
      "Epoch 38/50\n",
      "525/525 [==============================] - 13s 26ms/step - loss: 0.0961 - accuracy: 0.9705 - val_loss: 0.0271 - val_accuracy: 0.9939\n",
      "Epoch 39/50\n",
      "525/525 [==============================] - 13s 25ms/step - loss: 0.0935 - accuracy: 0.9730 - val_loss: 0.0319 - val_accuracy: 0.9927\n",
      "Epoch 40/50\n",
      "525/525 [==============================] - 11s 22ms/step - loss: 0.0934 - accuracy: 0.9725 - val_loss: 0.0251 - val_accuracy: 0.9942\n",
      "Epoch 41/50\n",
      "525/525 [==============================] - 12s 23ms/step - loss: 0.0957 - accuracy: 0.9714 - val_loss: 0.0337 - val_accuracy: 0.9929\n",
      "Epoch 42/50\n",
      "525/525 [==============================] - 11s 21ms/step - loss: 0.0918 - accuracy: 0.9734 - val_loss: 0.0289 - val_accuracy: 0.9940\n",
      "Epoch 43/50\n",
      "525/525 [==============================] - 11s 21ms/step - loss: 0.0918 - accuracy: 0.9715 - val_loss: 0.0321 - val_accuracy: 0.9930\n",
      "Epoch 44/50\n",
      "525/525 [==============================] - 16s 30ms/step - loss: 0.0903 - accuracy: 0.9727 - val_loss: 0.0352 - val_accuracy: 0.9926\n",
      "Epoch 45/50\n",
      "525/525 [==============================] - 11s 21ms/step - loss: 0.0908 - accuracy: 0.9735 - val_loss: 0.0389 - val_accuracy: 0.9921\n",
      "Epoch 46/50\n",
      "525/525 [==============================] - 12s 22ms/step - loss: 0.0893 - accuracy: 0.9740 - val_loss: 0.0318 - val_accuracy: 0.9944\n",
      "Epoch 47/50\n",
      "525/525 [==============================] - 11s 22ms/step - loss: 0.0971 - accuracy: 0.9712 - val_loss: 0.0399 - val_accuracy: 0.9904\n",
      "Epoch 48/50\n",
      "525/525 [==============================] - 11s 22ms/step - loss: 0.0909 - accuracy: 0.9726 - val_loss: 0.0346 - val_accuracy: 0.9930\n",
      "Epoch 49/50\n",
      "525/525 [==============================] - 13s 26ms/step - loss: 0.0910 - accuracy: 0.9730 - val_loss: 0.0337 - val_accuracy: 0.9940\n",
      "Epoch 50/50\n",
      "525/525 [==============================] - 13s 26ms/step - loss: 0.0909 - accuracy: 0.9734 - val_loss: 0.0340 - val_accuracy: 0.9939\n"
     ]
    }
   ],
   "source": [
    "#This isn't likely to take long, so we'll use a large epoch.  Also, fitting things into memory isn't gonna be a problem, so batch size of 64 should be fine\n",
    "epochs = 50\n",
    "batch_size = 64\n",
    "\n",
    "#Trains the model\n",
    "history = model.fit_generator(augment.flow(X_train,y_train, batch_size=batch_size),  #Retrieves the augmented images from the ImageDataGenerator\n",
    "                              epochs = epochs, \n",
    "                              steps_per_epoch=len(X_train) // batch_size, #So we get the entire training set per epoch\n",
    "                              validation_data = (X_val,y_val),\n",
    "                              verbose = 1, \n",
    "                              use_multiprocessing = True, #Use multiple CPUs. \n",
    "                              workers = 2                 #Kaggle gives you two CPU cores when you use GPU\n",
    "                             )"
   ]
  },
  {
   "cell_type": "markdown",
   "metadata": {
    "papermill": {
     "duration": 3.356061,
     "end_time": "2021-01-10T17:57:08.372866",
     "exception": false,
     "start_time": "2021-01-10T17:57:05.016805",
     "status": "completed"
    },
    "tags": []
   },
   "source": [
    "Its getting high accuracy; definitely some learning going on.  Another interesting facet is that the validation loss is much less than the training loss.  This is because we did not augment the validation dataset, and as a result the validation images are much easier to predict than the augmented training images.  \n",
    "\n",
    "Let's quickly visualize how it did over time."
   ]
  },
  {
   "cell_type": "code",
   "execution_count": 12,
   "metadata": {
    "execution": {
     "iopub.execute_input": "2021-01-10T17:57:14.662588Z",
     "iopub.status.busy": "2021-01-10T17:57:14.655242Z",
     "iopub.status.idle": "2021-01-10T17:57:14.868482Z",
     "shell.execute_reply": "2021-01-10T17:57:14.869052Z"
    },
    "papermill": {
     "duration": 3.338707,
     "end_time": "2021-01-10T17:57:14.869216",
     "exception": false,
     "start_time": "2021-01-10T17:57:11.530509",
     "status": "completed"
    },
    "tags": []
   },
   "outputs": [
    {
     "data": {
      "text/plain": [
       "<matplotlib.legend.Legend at 0x7f06aa312210>"
      ]
     },
     "execution_count": 12,
     "metadata": {},
     "output_type": "execute_result"
    },
    {
     "data": {
      "image/png": "[encoded data removed]",
      "text/plain": [
       "<Figure size 432x288 with 1 Axes>"
      ]
     },
     "metadata": {
      "needs_background": "light"
     },
     "output_type": "display_data"
    }
   ],
   "source": [
    "#Plots accuracy and loss across epochs\n",
    "plt.plot(history.history['accuracy'])\n",
    "plt.plot(history.history['loss'])\n",
    "plt.plot(history.history['val_accuracy'])\n",
    "plt.plot(history.history['val_loss'])\n",
    "plt.legend(['Accuracy', 'Loss', \"Validation Accuracy\", \"Validation Loss\"])\n"
   ]
  },
  {
   "cell_type": "markdown",
   "metadata": {
    "papermill": {
     "duration": 3.380201,
     "end_time": "2021-01-10T17:57:21.409056",
     "exception": false,
     "start_time": "2021-01-10T17:57:18.028855",
     "status": "completed"
    },
    "tags": []
   },
   "source": [
    "As you can see it improved really quickly over a few epochs, then slowed down.  Ends up with a pretty high accuracy.  Let's see if there are any numbers in particular that it has trouble with (at least on the validation set)."
   ]
  },
  {
   "cell_type": "code",
   "execution_count": 13,
   "metadata": {
    "execution": {
     "iopub.execute_input": "2021-01-10T17:57:27.863458Z",
     "iopub.status.busy": "2021-01-10T17:57:27.862399Z",
     "iopub.status.idle": "2021-01-10T17:57:28.368827Z",
     "shell.execute_reply": "2021-01-10T17:57:28.369454Z"
    },
    "papermill": {
     "duration": 3.691864,
     "end_time": "2021-01-10T17:57:28.369636",
     "exception": false,
     "start_time": "2021-01-10T17:57:24.677772",
     "status": "completed"
    },
    "tags": []
   },
   "outputs": [
    {
     "name": "stdout",
     "output_type": "stream",
     "text": [
      "[[816   0   1   0   0   0   1   1   1   2]\n",
      " [  0 965   0   0   0   0   0   0   0   0]\n",
      " [  1   1 842   1   0   0   0   0   2   0]\n",
      " [  0   0   0 861   0   1   1   0   3   0]\n",
      " [  0   0   0   0 821   0   1   1   0   2]\n",
      " [  0   0   0   0   0 805   2   0   0   2]\n",
      " [  0   0   0   0   0   1 771   0   0   0]\n",
      " [  0   1   6   1   2   0   0 859   0   6]\n",
      " [  0   0   0   0   0   1   0   0 778   2]\n",
      " [  0   0   0   0   2   1   0   1   3 831]]\n"
     ]
    }
   ],
   "source": [
    "#Makes predictions on the validation set \n",
    "validation_predictions = model.predict_classes(X_val)\n",
    "\n",
    "#Sets up a confusion matrix\n",
    "confusion = confusion_matrix(validation_predictions,y_val.idxmax(axis=1))\n",
    "\n",
    "print(confusion)"
   ]
  },
  {
   "cell_type": "markdown",
   "metadata": {
    "papermill": {
     "duration": 3.124977,
     "end_time": "2021-01-10T17:57:35.403181",
     "exception": false,
     "start_time": "2021-01-10T17:57:32.278204",
     "status": "completed"
    },
    "tags": []
   },
   "source": [
    "Looks pretty good.  No particular false classification really stands out.  Now, we'll make predictions on the testing data."
   ]
  },
  {
   "cell_type": "code",
   "execution_count": 14,
   "metadata": {
    "execution": {
     "iopub.execute_input": "2021-01-10T17:57:42.442983Z",
     "iopub.status.busy": "2021-01-10T17:57:42.441549Z",
     "iopub.status.idle": "2021-01-10T17:57:44.202278Z",
     "shell.execute_reply": "2021-01-10T17:57:44.201706Z"
    },
    "papermill": {
     "duration": 5.400785,
     "end_time": "2021-01-10T17:57:44.202405",
     "exception": false,
     "start_time": "2021-01-10T17:57:38.801620",
     "status": "completed"
    },
    "tags": []
   },
   "outputs": [
    {
     "name": "stdout",
     "output_type": "stream",
     "text": [
      "[2 0 9 0 3]\n"
     ]
    }
   ],
   "source": [
    "#Pre-process the testing data\n",
    "test = normalizeANDreshape(test, 0, 255)\n",
    "\n",
    "#Makes class predictions on the test set\n",
    "predictions = model.predict_classes(test)\n",
    "\n",
    "print(predictions[0:5])"
   ]
  },
  {
   "cell_type": "markdown",
   "metadata": {
    "papermill": {
     "duration": 3.181291,
     "end_time": "2021-01-10T17:57:50.532192",
     "exception": false,
     "start_time": "2021-01-10T17:57:47.350901",
     "status": "completed"
    },
    "tags": []
   },
   "source": [
    "Quick conclusion:\n",
    "\n",
    "This is an example of a simple CNN.  These images are pretty basic and don't have too much noise/other things going on aside from the numbers, which makes for a pretty easy classification target.  99% accuracy for this dataset is pretty common, especially with CNNs for which is this pretty much an ideal dataset.  \n",
    "\n",
    "That said, we still need to make and sumbit the predictions."
   ]
  },
  {
   "cell_type": "code",
   "execution_count": 15,
   "metadata": {
    "execution": {
     "iopub.execute_input": "2021-01-10T17:57:57.087854Z",
     "iopub.status.busy": "2021-01-10T17:57:57.085931Z",
     "iopub.status.idle": "2021-01-10T17:57:57.372728Z",
     "shell.execute_reply": "2021-01-10T17:57:57.372128Z"
    },
    "papermill": {
     "duration": 3.517741,
     "end_time": "2021-01-10T17:57:57.372856",
     "exception": false,
     "start_time": "2021-01-10T17:57:53.855115",
     "status": "completed"
    },
    "tags": []
   },
   "outputs": [],
   "source": [
    "#Makes an Id column for the submission\n",
    "#Should just be int's between 1 and the length of the testing set\n",
    "Id = []\n",
    "for i in range(len(test)):\n",
    "    Id.append(i+1)\n",
    "\n",
    "    \n",
    "#Outputs the submission\n",
    "output = pd.DataFrame({'ImageID': Id, 'Label': predictions})\n",
    "output.to_csv('predictions.csv', index=False)"
   ]
  },
  {
   "cell_type": "code",
   "execution_count": null,
   "metadata": {
    "papermill": {
     "duration": 3.985756,
     "end_time": "2021-01-10T17:58:04.482627",
     "exception": false,
     "start_time": "2021-01-10T17:58:00.496871",
     "status": "completed"
    },
    "tags": []
   },
   "outputs": [],
   "source": []
  }
 ],
 "metadata": {
  "kernelspec": {
   "display_name": "Python 3",
   "language": "python",
   "name": "python3"
  },
  "language_info": {
   "codemirror_mode": {
    "name": "ipython",
    "version": 3
   },
   "file_extension": ".py",
   "mimetype": "text/x-python",
   "name": "python",
   "nbconvert_exporter": "python",
   "pygments_lexer": "ipython3",
   "version": "3.7.6"
  },
  "papermill": {
   "duration": 709.280439,
   "end_time": "2021-01-10T17:58:09.065547",
   "environment_variables": {},
   "exception": null,
   "input_path": "__notebook__.ipynb",
   "output_path": "__notebook__.ipynb",
   "parameters": {},
   "start_time": "2021-01-10T17:46:19.785108",
   "version": "2.1.0"
  }
 },
 "nbformat": 4,
 "nbformat_minor": 4
}
